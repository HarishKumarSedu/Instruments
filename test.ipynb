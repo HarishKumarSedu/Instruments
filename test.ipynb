{
 "cells": [
  {
   "cell_type": "code",
   "execution_count": 3,
   "id": "ab244def",
   "metadata": {},
   "outputs": [
    {
     "name": "stdout",
     "output_type": "stream",
     "text": [
      "device_address=\"0x38\",field_info={'fieldname': 'pll_mode'},write_value=hex(2)\n",
      "I2C_WRITE(DEVICE_ADDRESS=\"0X38\",FIELD_INFO={'FIELDNAME': 'PLL_MODE'},WRITE_VALUE=HEX(2))\n"
     ]
    }
   ],
   "source": [
    "import regex\n",
    "\n",
    "# Recursive regex pattern to match I2C function calls with nested parentheses\n",
    "pattern = regex.compile(\n",
    "    r'(I2C_WRITE|I2C_READ|I2C_REG_WRITE|I2C_REG_READ|I2C_BIT_WRITE|I2C_BIT_READ)\\s*'\n",
    "    r'\\(((?:[^()]+|\\((?2)\\))*)\\)'\n",
    ")\n",
    "\n",
    "def replacer(match):\n",
    "    func_name = match.group(1)\n",
    "    args = match.group(2)\n",
    "    print(args)\n",
    "    # Example: modify the args string as needed\n",
    "    # For demonstration, let's just uppercase the args\n",
    "    new_args = args.upper()\n",
    "\n",
    "    # Return the replaced function call string\n",
    "    return f\"{func_name}({new_args})\"\n",
    "\n",
    "# Example input string\n",
    "code_str = '''I2C_WRITE(device_address=\"0x38\",field_info={'fieldname': 'pll_mode'},write_value=hex(2))'''\n",
    "\n",
    "# Perform substitution using the replacer function\n",
    "replaced_code = pattern.sub(replacer, code_str)\n",
    "\n",
    "print(replaced_code)\n",
    "\n"
   ]
  },
  {
   "cell_type": "code",
   "execution_count": 14,
   "id": "9a65b97a",
   "metadata": {},
   "outputs": [
    {
     "name": "stdout",
     "output_type": "stream",
     "text": [
      "I2C_WRITE(device_address=\"0x68\", field_info={'fieldname': 'otp_ds_ref_pvdd_uvlo_trm', 'length': 5, 'registers': [{'REG': '0xB3', 'POS': 0, 'RegisterName': 'OTP FIELDS 3', 'RegisterLength': 8, 'Name': 'otp_ds_ref_pvdd_uvlo_trm[4:0]', 'Mask': '0x1F', 'Length': 5, 'FieldMSB': 4, 'FieldLSB': 0, 'Attribute': 'NNNNNNNN', 'Default': '0x60', 'User': '00000000', 'Clocking': 'REF', 'Reset': 'C', 'PageName': 'PAG1'}]}, write_value=\"hex(Code)\")\n"
     ]
    }
   ],
   "source": [
    "statement = '''I2C_WRITE(device_address=\"0x68\", field_info={'fieldname': 'otp_ds_ref_pvdd_uvlo_trm', 'length': 5, 'registers': [{'REG': '0xB3', 'POS': 0, 'RegisterName': 'OTP FIELDS 3', 'RegisterLength': 8, 'Name': 'otp_ds_ref_pvdd_uvlo_trm[4:0]', 'Mask': '0x1F', 'Length': 5, 'FieldMSB': 4, 'FieldLSB': 0, 'Attribute': 'NNNNNNNN', 'Default': '0x60', 'User': '00000000', 'Clocking': 'REF', 'Reset': 'C', 'PageName': 'PAG1'}]}, write_value=hex(Code))'''\n",
    "\n",
    "processed = preprocess_args_str(statement)\n",
    "print(processed)\n"
   ]
  }
 ],
 "metadata": {
  "kernelspec": {
   "display_name": "Python 3",
   "language": "python",
   "name": "python3"
  },
  "language_info": {
   "codemirror_mode": {
    "name": "ipython",
    "version": 3
   },
   "file_extension": ".py",
   "mimetype": "text/x-python",
   "name": "python",
   "nbconvert_exporter": "python",
   "pygments_lexer": "ipython3",
   "version": "3.11.1"
  }
 },
 "nbformat": 4,
 "nbformat_minor": 5
}
